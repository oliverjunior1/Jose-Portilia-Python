{
 "cells": [
  {
   "cell_type": "markdown",
   "id": "f96f5c82-5c3c-44fd-8f6f-68c7e93d3f90",
   "metadata": {},
   "source": [
    "## Basic Data Types"
   ]
  },
  {
   "cell_type": "markdown",
   "id": "3dd1ff82-740a-4007-9218-cca3b60e49c1",
   "metadata": {},
   "source": [
    "- Integers"
   ]
  },
  {
   "cell_type": "code",
   "execution_count": 12,
   "id": "eb370ff5-7afe-4e56-932b-c451c7fee4b6",
   "metadata": {},
   "outputs": [
    {
     "data": {
      "text/plain": [
       "0"
      ]
     },
     "execution_count": 12,
     "metadata": {},
     "output_type": "execute_result"
    }
   ],
   "source": [
    "\n",
    "5\n",
    "10\n",
    "-23\n",
    "0\n"
   ]
  },
  {
   "cell_type": "markdown",
   "id": "fe58fde7-9057-4c23-a2c5-623ebab07ed7",
   "metadata": {},
   "source": [
    "- Floating"
   ]
  },
  {
   "cell_type": "code",
   "execution_count": 4,
   "id": "b5c20fa5-be50-4349-a842-871c51d483de",
   "metadata": {},
   "outputs": [
    {
     "data": {
      "text/plain": [
       "9.88"
      ]
     },
     "execution_count": 4,
     "metadata": {},
     "output_type": "execute_result"
    }
   ],
   "source": [
    "\n",
    "5.5\n",
    "3.14\n",
    "9.88"
   ]
  },
  {
   "cell_type": "markdown",
   "id": "34bea54d-87db-4409-969a-8531a147a9cc",
   "metadata": {},
   "source": [
    "- String"
   ]
  },
  {
   "cell_type": "code",
   "execution_count": 6,
   "id": "113ce587-9dfa-47c6-b478-3fef9f2a4380",
   "metadata": {},
   "outputs": [
    {
     "data": {
      "text/plain": [
       "'123History'"
      ]
     },
     "execution_count": 6,
     "metadata": {},
     "output_type": "execute_result"
    }
   ],
   "source": [
    "\n",
    "\"Joao\"\n",
    "\"Joaquim\"\n",
    "\"4\"\n",
    "'123History'"
   ]
  },
  {
   "cell_type": "markdown",
   "id": "9d7ec316-0716-421e-a6d9-6d9e9dedab8b",
   "metadata": {},
   "source": [
    "- Boolean"
   ]
  },
  {
   "cell_type": "code",
   "execution_count": 8,
   "id": "be246b79-dd21-46be-afc8-3dda4c0211d6",
   "metadata": {},
   "outputs": [
    {
     "data": {
      "text/plain": [
       "False"
      ]
     },
     "execution_count": 8,
     "metadata": {},
     "output_type": "execute_result"
    }
   ],
   "source": [
    "\n",
    "True\n",
    "False"
   ]
  },
  {
   "cell_type": "markdown",
   "id": "04962dce-2890-4d40-ac38-a145528d6bf8",
   "metadata": {},
   "source": [
    "- Char"
   ]
  },
  {
   "cell_type": "code",
   "execution_count": 22,
   "id": "220582ad-9f22-4af4-a679-49cbe9c583d2",
   "metadata": {},
   "outputs": [
    {
     "data": {
      "text/plain": [
       "'1'"
      ]
     },
     "execution_count": 22,
     "metadata": {},
     "output_type": "execute_result"
    }
   ],
   "source": [
    "'a'\n",
    "'b'\n",
    "'1'"
   ]
  },
  {
   "cell_type": "code",
   "execution_count": null,
   "id": "70d7b942-3dcf-4073-b3c6-ee281c9b5ff0",
   "metadata": {},
   "outputs": [],
   "source": []
  }
 ],
 "metadata": {
  "kernelspec": {
   "display_name": "Python 3 (ipykernel)",
   "language": "python",
   "name": "python3"
  },
  "language_info": {
   "codemirror_mode": {
    "name": "ipython",
    "version": 3
   },
   "file_extension": ".py",
   "mimetype": "text/x-python",
   "name": "python",
   "nbconvert_exporter": "python",
   "pygments_lexer": "ipython3",
   "version": "3.11.7"
  }
 },
 "nbformat": 4,
 "nbformat_minor": 5
}
