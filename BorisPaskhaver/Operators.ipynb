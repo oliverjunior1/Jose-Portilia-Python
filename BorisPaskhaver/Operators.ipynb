{
 "cells": [
  {
   "cell_type": "markdown",
   "id": "03af5d3d-6634-420a-9095-498e99d6519c",
   "metadata": {},
   "source": [
    "## Operators\n",
    "- An operator is a symbol that performs an operation (mathematical, logical, etc)"
   ]
  },
  {
   "cell_type": "code",
   "execution_count": 2,
   "id": "4d186993-1e9c-4c85-ad24-771377ea136c",
   "metadata": {},
   "outputs": [
    {
     "data": {
      "text/plain": [
       "8"
      ]
     },
     "execution_count": 2,
     "metadata": {},
     "output_type": "execute_result"
    }
   ],
   "source": [
    "5 + 3"
   ]
  },
  {
   "cell_type": "code",
   "execution_count": 4,
   "id": "ecf1db8e-52be-45ba-a003-98ac4cc3bbe8",
   "metadata": {},
   "outputs": [
    {
     "data": {
      "text/plain": [
       "5.0"
      ]
     },
     "execution_count": 4,
     "metadata": {},
     "output_type": "execute_result"
    }
   ],
   "source": [
    "10/2"
   ]
  },
  {
   "cell_type": "code",
   "execution_count": 6,
   "id": "0d6022c9-46f9-400c-a313-c34c181c1fa6",
   "metadata": {},
   "outputs": [
    {
     "data": {
      "text/plain": [
       "50"
      ]
     },
     "execution_count": 6,
     "metadata": {},
     "output_type": "execute_result"
    }
   ],
   "source": [
    "25*2"
   ]
  },
  {
   "cell_type": "code",
   "execution_count": 8,
   "id": "3e2a54e1-889e-4e83-976d-c6375d2e0691",
   "metadata": {},
   "outputs": [
    {
     "data": {
      "text/plain": [
       "25"
      ]
     },
     "execution_count": 8,
     "metadata": {},
     "output_type": "execute_result"
    }
   ],
   "source": [
    "100- 75"
   ]
  },
  {
   "cell_type": "code",
   "execution_count": 10,
   "id": "d2ad3f6d-c17a-4db4-8e0a-f44393b75cd6",
   "metadata": {},
   "outputs": [
    {
     "data": {
      "text/plain": [
       "25"
      ]
     },
     "execution_count": 10,
     "metadata": {},
     "output_type": "execute_result"
    }
   ],
   "source": [
    "5 ** 2"
   ]
  },
  {
   "cell_type": "code",
   "execution_count": 12,
   "id": "8df36904-c2f0-4888-afc2-80adfe7a652c",
   "metadata": {},
   "outputs": [
    {
     "data": {
      "text/plain": [
       "1"
      ]
     },
     "execution_count": 12,
     "metadata": {},
     "output_type": "execute_result"
    }
   ],
   "source": [
    "5 % 2 #print the  rest of a division."
   ]
  },
  {
   "cell_type": "code",
   "execution_count": 18,
   "id": "c60ab85f-ac2c-46d6-a9a6-f02134f3f456",
   "metadata": {},
   "outputs": [
    {
     "data": {
      "text/plain": [
       "5"
      ]
     },
     "execution_count": 18,
     "metadata": {},
     "output_type": "execute_result"
    }
   ],
   "source": [
    "11//2 #Applying the exact division."
   ]
  },
  {
   "cell_type": "code",
   "execution_count": null,
   "id": "c926b2ba-3d0a-4bb0-bec2-0d41bd310e24",
   "metadata": {},
   "outputs": [],
   "source": []
  }
 ],
 "metadata": {
  "kernelspec": {
   "display_name": "Python 3 (ipykernel)",
   "language": "python",
   "name": "python3"
  },
  "language_info": {
   "codemirror_mode": {
    "name": "ipython",
    "version": 3
   },
   "file_extension": ".py",
   "mimetype": "text/x-python",
   "name": "python",
   "nbconvert_exporter": "python",
   "pygments_lexer": "ipython3",
   "version": "3.11.7"
  }
 },
 "nbformat": 4,
 "nbformat_minor": 5
}
