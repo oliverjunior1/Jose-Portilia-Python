{
 "cells": [
  {
   "cell_type": "markdown",
   "id": "21eb0b10-98c0-45ac-a240-2d92e7985852",
   "metadata": {},
   "source": [
    "## Python Crash Course\n",
    "## Comments\n",
    "- A comment is a line of text ignored by python\n",
    "- Use a hashtag/octothorpe(#) to create a comment."
   ]
  },
  {
   "cell_type": "markdown",
   "id": "e22320e7-8664-4f1d-8aa7-9e2fc6aafc2b",
   "metadata": {},
   "source": [
    "## Author: Joaquim Rodrigues de Oliveira Junior"
   ]
  },
  {
   "cell_type": "code",
   "execution_count": 16,
   "id": "eeda73b7-92f1-423c-baa7-615146fe20b3",
   "metadata": {},
   "outputs": [
    {
     "data": {
      "text/plain": [
       "20"
      ]
     },
     "execution_count": 16,
     "metadata": {},
     "output_type": "execute_result"
    }
   ],
   "source": [
    "3+3\n",
    "5+5\n",
    "10+10"
   ]
  }
 ],
 "metadata": {
  "kernelspec": {
   "display_name": "Python 3 (ipykernel)",
   "language": "python",
   "name": "python3"
  },
  "language_info": {
   "codemirror_mode": {
    "name": "ipython",
    "version": 3
   },
   "file_extension": ".py",
   "mimetype": "text/x-python",
   "name": "python",
   "nbconvert_exporter": "python",
   "pygments_lexer": "ipython3",
   "version": "3.11.7"
  }
 },
 "nbformat": 4,
 "nbformat_minor": 5
}
