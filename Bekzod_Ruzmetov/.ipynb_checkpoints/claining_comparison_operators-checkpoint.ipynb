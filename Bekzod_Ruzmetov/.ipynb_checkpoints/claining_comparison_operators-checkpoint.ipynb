{
 "cells": [
  {
   "cell_type": "markdown",
   "id": "e6e2f208-0371-4da8-99a3-ef10e9a2a97e",
   "metadata": {},
   "source": [
    "## Comments\n",
    "-Python Crash Course"
   ]
  },
  {
   "cell_type": "code",
   "execution_count": 12,
   "id": "a4e3e651-492d-4f92-bd2b-eee777d5508c",
   "metadata": {},
   "outputs": [
    {
     "data": {
      "text/plain": [
       "20"
      ]
     },
     "execution_count": 12,
     "metadata": {},
     "output_type": "execute_result"
    }
   ],
   "source": [
    "3+3\n",
    "5 + 5\n",
    "10 + 10"
   ]
  }
 ],
 "metadata": {
  "kernelspec": {
   "display_name": "Python 3 (ipykernel)",
   "language": "python",
   "name": "python3"
  },
  "language_info": {
   "codemirror_mode": {
    "name": "ipython",
    "version": 3
   },
   "file_extension": ".py",
   "mimetype": "text/x-python",
   "name": "python",
   "nbconvert_exporter": "python",
   "pygments_lexer": "ipython3",
   "version": "3.11.7"
  }
 },
 "nbformat": 4,
 "nbformat_minor": 5
}
